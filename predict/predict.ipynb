{
 "cells": [
  {
   "cell_type": "code",
   "execution_count": 1,
   "metadata": {
    "collapsed": true
   },
   "outputs": [],
   "source": [
    "%matplotlib inline\n",
    "import matplotlib.pyplot as plt\n",
    "import cv2\n",
    "import numpy as np\n",
    "from ResDrop152 import ResNet\n",
    "from chainer import serializers, cuda, Variable\n",
    "import chainer.functions as F\n",
    "from progressbar import ProgressBar\n",
    "import glob\n",
    "import os"
   ]
  },
  {
   "cell_type": "code",
   "execution_count": 2,
   "metadata": {
    "collapsed": false
   },
   "outputs": [
    {
     "data": {
      "text/plain": [
       "<ResDrop152.ResNet at 0x7f5a96f26050>"
      ]
     },
     "execution_count": 2,
     "metadata": {},
     "output_type": "execute_result"
    }
   ],
   "source": [
    "model = ResNet()\n",
    "model.train = False\n",
    "serializers.load_hdf5('../results/2016-06-20_12-35-36/model', model)\n",
    "cuda.check_cuda_available()\n",
    "cuda.get_device(2).use()\n",
    "model.to_gpu()"
   ]
  },
  {
   "cell_type": "code",
   "execution_count": 3,
   "metadata": {
    "collapsed": true
   },
   "outputs": [],
   "source": [
    "data = glob.glob('../data/test/*')\n",
    "data.sort()"
   ]
  },
  {
   "cell_type": "code",
   "execution_count": null,
   "metadata": {
    "collapsed": false
   },
   "outputs": [
    {
     "name": "stderr",
     "output_type": "stream",
     "text": [
      "  4% (3701 of 79726) |                    | Elapsed Time: 0:00:50 ETA:  0:17:29"
     ]
    }
   ],
   "source": [
    "pbar = ProgressBar(len(data))\n",
    "mean = np.load('../data/mean.npy').astype(np.float32)\n",
    "mean = cv2.resize(mean, (224, 224))\n",
    "sum_acc = []\n",
    "bsize = 100\n",
    "for i in range(0, len(data), bsize):\n",
    "    x = np.empty((bsize, 3, 224, 224), dtype=np.float32)\n",
    "    for j in range(0, bsize):\n",
    "        if i+j == len(data):\n",
    "            x = x[:j]\n",
    "            break\n",
    "        img = cv2.imread(data[i+j]).astype(np.float32)\n",
    "        img = cv2.resize(img, (224, 224)) - mean\n",
    "        x[j] = img.transpose(2, 0, 1)\n",
    "    x = Variable(cuda.cupy.asarray(x), volatile='on')\n",
    "    h = F.softmax(model(x, None))\n",
    "    sum_acc += [cuda.to_cpu(h.data),]\n",
    "    pbar.update(i+1)"
   ]
  },
  {
   "cell_type": "code",
   "execution_count": null,
   "metadata": {
    "collapsed": false
   },
   "outputs": [],
   "source": [
    "with open('result.csv', 'w') as f:\n",
    "    f.write('img')\n",
    "    for i in range(10):\n",
    "        f.write(',c{}'.format(i))\n",
    "    f.write('\\n')\n",
    "    \n",
    "    c = 0\n",
    "    pbar = ProgressBar(len(data))\n",
    "    for block in sum_acc:\n",
    "        for line in block:\n",
    "            f.write(os.path.basename(data[c]))\n",
    "            for j in line:\n",
    "                f.write(',{}'.format(j))\n",
    "            f.write('\\n')\n",
    "            c += 1\n",
    "            pbar.update(c)"
   ]
  },
  {
   "cell_type": "code",
   "execution_count": null,
   "metadata": {
    "collapsed": true
   },
   "outputs": [],
   "source": []
  }
 ],
 "metadata": {
  "kernelspec": {
   "display_name": "Python 2",
   "language": "python",
   "name": "python2"
  },
  "language_info": {
   "codemirror_mode": {
    "name": "ipython",
    "version": 2
   },
   "file_extension": ".py",
   "mimetype": "text/x-python",
   "name": "python",
   "nbconvert_exporter": "python",
   "pygments_lexer": "ipython2",
   "version": "2.7.11"
  }
 },
 "nbformat": 4,
 "nbformat_minor": 0
}
